{
 "cells": [
  {
   "cell_type": "code",
   "execution_count": 1,
   "id": "916f0f81",
   "metadata": {},
   "outputs": [],
   "source": [
    "import numpy as np\n",
    "import pandas as pd\n",
    "import seaborn as sb\n",
    "import matplotlib.pyplot as plt\n",
    "from sklearn.model_selection import train_test_split\n",
    "from sklearn.feature_extraction.text import CountVectorizer, TfidfVectorizer\n",
    "from sklearn.linear_model import SGDClassifier\n",
    "from sklearn.ensemble import RandomForestClassifier\n",
    "from sklearn.metrics import classification_report, confusion_matrix, ConfusionMatrixDisplay\n",
    "from sklearn.neighbors import KNeighborsClassifier"
   ]
  },
  {
   "cell_type": "code",
   "execution_count": 2,
   "id": "867423c6",
   "metadata": {},
   "outputs": [
    {
     "data": {
      "text/html": [
       "<div>\n",
       "<style scoped>\n",
       "    .dataframe tbody tr th:only-of-type {\n",
       "        vertical-align: middle;\n",
       "    }\n",
       "\n",
       "    .dataframe tbody tr th {\n",
       "        vertical-align: top;\n",
       "    }\n",
       "\n",
       "    .dataframe thead th {\n",
       "        text-align: right;\n",
       "    }\n",
       "</style>\n",
       "<table border=\"1\" class=\"dataframe\">\n",
       "  <thead>\n",
       "    <tr style=\"text-align: right;\">\n",
       "      <th></th>\n",
       "      <th>fraudulent</th>\n",
       "      <th>lemm_tokens</th>\n",
       "    </tr>\n",
       "  </thead>\n",
       "  <tbody>\n",
       "    <tr>\n",
       "      <th>0</th>\n",
       "      <td>0</td>\n",
       "      <td>['we', 'food52', 'create', 'groundbreaking', '...</td>\n",
       "    </tr>\n",
       "    <tr>\n",
       "      <th>1</th>\n",
       "      <td>0</td>\n",
       "      <td>['90', 'second', 'worlds', 'cloud', 'video', '...</td>\n",
       "    </tr>\n",
       "    <tr>\n",
       "      <th>2</th>\n",
       "      <td>0</td>\n",
       "      <td>['valor', 'service', 'provide', 'workforce', '...</td>\n",
       "    </tr>\n",
       "    <tr>\n",
       "      <th>3</th>\n",
       "      <td>0</td>\n",
       "      <td>['our', 'passion', 'improve', 'quality', 'life...</td>\n",
       "    </tr>\n",
       "    <tr>\n",
       "      <th>4</th>\n",
       "      <td>0</td>\n",
       "      <td>['spotsource', 'solutions', 'llc', 'global', '...</td>\n",
       "    </tr>\n",
       "  </tbody>\n",
       "</table>\n",
       "</div>"
      ],
      "text/plain": [
       "   fraudulent                                        lemm_tokens\n",
       "0           0  ['we', 'food52', 'create', 'groundbreaking', '...\n",
       "1           0  ['90', 'second', 'worlds', 'cloud', 'video', '...\n",
       "2           0  ['valor', 'service', 'provide', 'workforce', '...\n",
       "3           0  ['our', 'passion', 'improve', 'quality', 'life...\n",
       "4           0  ['spotsource', 'solutions', 'llc', 'global', '..."
      ]
     },
     "execution_count": 2,
     "metadata": {},
     "output_type": "execute_result"
    }
   ],
   "source": [
    "train_data = pd.read_csv('tokenized.csv', usecols=['fraudulent','lemm_tokens'])\n",
    "train_data.head()"
   ]
  },
  {
   "cell_type": "code",
   "execution_count": 3,
   "id": "fc22855c",
   "metadata": {
    "scrolled": true
   },
   "outputs": [
    {
     "name": "stdout",
     "output_type": "stream",
     "text": [
      "Shape of training data : (17880, 2)\n"
     ]
    }
   ],
   "source": [
    "print('Shape of training data :',train_data.shape)"
   ]
  },
  {
   "cell_type": "code",
   "execution_count": 4,
   "id": "936e5216",
   "metadata": {},
   "outputs": [],
   "source": [
    "y = train_data[\"fraudulent\"]\n",
    "X = train_data[\"lemm_tokens\"]"
   ]
  },
  {
   "cell_type": "code",
   "execution_count": 5,
   "id": "1b3ac719",
   "metadata": {},
   "outputs": [],
   "source": [
    "X_train, X_test, y_train, y_test = train_test_split(X, y, test_size=0.2, random_state=420)"
   ]
  },
  {
   "cell_type": "code",
   "execution_count": 6,
   "id": "602be0c2",
   "metadata": {},
   "outputs": [
    {
     "name": "stdout",
     "output_type": "stream",
     "text": [
      "(14304, 81083)\n",
      "(3576, 81083)\n"
     ]
    }
   ],
   "source": [
    "tfidf = TfidfVectorizer()\n",
    "tfidf.fit(X_train)\n",
    "X_train_tfidf = tfidf.transform(X_train)\n",
    "X_test_tfidf = tfidf.transform(X_test)\n",
    "print(X_train_tfidf.shape)\n",
    "print(X_test_tfidf.shape)"
   ]
  },
  {
   "cell_type": "markdown",
   "id": "a1bc9252",
   "metadata": {},
   "source": [
    "# Check the words 'learnt' by vectorizer"
   ]
  },
  {
   "cell_type": "code",
   "execution_count": 7,
   "id": "5298ad34",
   "metadata": {},
   "outputs": [],
   "source": [
    "#tfidf.vocabulary_"
   ]
  },
  {
   "cell_type": "markdown",
   "id": "40bff799",
   "metadata": {},
   "source": [
    "# SGD Classifier"
   ]
  },
  {
   "cell_type": "code",
   "execution_count": 8,
   "id": "5f5abad3",
   "metadata": {},
   "outputs": [
    {
     "name": "stdout",
     "output_type": "stream",
     "text": [
      "              precision    recall  f1-score   support\n",
      "\n",
      "           0       0.99      1.00      1.00      3428\n",
      "           1       0.98      0.81      0.89       148\n",
      "\n",
      "    accuracy                           0.99      3576\n",
      "   macro avg       0.98      0.90      0.94      3576\n",
      "weighted avg       0.99      0.99      0.99      3576\n",
      "\n"
     ]
    }
   ],
   "source": [
    "sgd = SGDClassifier(loss=\"modified_huber\", penalty=\"l2\", shuffle=True, random_state=420)\n",
    "sgd.fit(X_train_tfidf, y_train)\n",
    "y_predicted_sgd = sgd.predict(X_test_tfidf)\n",
    "print(classification_report(y_test, y_predicted_sgd))\n"
   ]
  },
  {
   "cell_type": "code",
   "execution_count": 9,
   "id": "98364725",
   "metadata": {},
   "outputs": [
    {
     "data": {
      "text/plain": [
       "<sklearn.metrics._plot.confusion_matrix.ConfusionMatrixDisplay at 0x1c852cea070>"
      ]
     },
     "execution_count": 9,
     "metadata": {},
     "output_type": "execute_result"
    },
    {
     "data": {
      "image/png": "[encoded data removed]",
      "text/plain": [
       "<Figure size 432x288 with 2 Axes>"
      ]
     },
     "metadata": {
      "needs_background": "light"
     },
     "output_type": "display_data"
    }
   ],
   "source": [
    "cm = confusion_matrix(y_test, y_predicted_sgd, labels=sgd.classes_)\n",
    "disp = ConfusionMatrixDisplay(confusion_matrix=cm, display_labels=sgd.classes_)\n",
    "disp.plot()"
   ]
  },
  {
   "cell_type": "markdown",
   "id": "4b14444f",
   "metadata": {},
   "source": [
    "# Understanding confusion matrix\n",
    "00: True Positive - Job postings that are legitimate and identified as legitimate\n",
    "\n",
    "11: True Negative - Job postings that are fraudulent and identified as fraudulent\n",
    "\n",
    "01: False Positive - Job postings that are legitimate but identified as fraudulent\n",
    "\n",
    "10: False Negative - Job postings that are fraudulent but identified as legitimate"
   ]
  },
  {
   "cell_type": "markdown",
   "id": "1d770cdb",
   "metadata": {},
   "source": [
    "# Random Forest Classifier"
   ]
  },
  {
   "cell_type": "code",
   "execution_count": 10,
   "id": "a84fd5aa",
   "metadata": {},
   "outputs": [
    {
     "name": "stdout",
     "output_type": "stream",
     "text": [
      "              precision    recall  f1-score   support\n",
      "\n",
      "           0       0.98      1.00      0.99      3428\n",
      "           1       0.98      0.57      0.72       148\n",
      "\n",
      "    accuracy                           0.98      3576\n",
      "   macro avg       0.98      0.78      0.85      3576\n",
      "weighted avg       0.98      0.98      0.98      3576\n",
      "\n"
     ]
    }
   ],
   "source": [
    "regr=RandomForestClassifier(n_estimators = 100, max_features = \"sqrt\", class_weight = \"balanced\", random_state = 42)\n",
    "regr.fit(X_train_tfidf,y_train)\n",
    "y_predicted_regr = regr.predict(X_test_tfidf)\n",
    "\n",
    "print(classification_report(y_test,y_predicted_regr))"
   ]
  },
  {
   "cell_type": "code",
   "execution_count": 11,
   "id": "fb536472",
   "metadata": {},
   "outputs": [
    {
     "data": {
      "text/plain": [
       "<sklearn.metrics._plot.confusion_matrix.ConfusionMatrixDisplay at 0x1c84ee84c10>"
      ]
     },
     "execution_count": 11,
     "metadata": {},
     "output_type": "execute_result"
    },
    {
     "data": {
      "image/png": "[encoded data removed]",
      "text/plain": [
       "<Figure size 432x288 with 2 Axes>"
      ]
     },
     "metadata": {
      "needs_background": "light"
     },
     "output_type": "display_data"
    }
   ],
   "source": [
    "cm = confusion_matrix(y_test, y_predicted_regr, labels=regr.classes_)\n",
    "disp = ConfusionMatrixDisplay(confusion_matrix=cm, display_labels=regr.classes_)\n",
    "disp.plot()"
   ]
  },
  {
   "cell_type": "markdown",
   "id": "e025ab89",
   "metadata": {},
   "source": [
    "# K-Neighbours "
   ]
  },
  {
   "cell_type": "code",
   "execution_count": 12,
   "id": "2971909b",
   "metadata": {},
   "outputs": [
    {
     "name": "stdout",
     "output_type": "stream",
     "text": [
      "              precision    recall  f1-score   support\n",
      "\n",
      "           0       0.99      0.99      0.99      3428\n",
      "           1       0.85      0.86      0.86       148\n",
      "\n",
      "    accuracy                           0.99      3576\n",
      "   macro avg       0.92      0.93      0.92      3576\n",
      "weighted avg       0.99      0.99      0.99      3576\n",
      "\n"
     ]
    }
   ],
   "source": [
    "neigh = KNeighborsClassifier(n_neighbors=5, weights=\"distance\")\n",
    "neigh.fit(X_train_tfidf,y_train)\n",
    "y_predicted_neigh = neigh.predict(X_test_tfidf)\n",
    "\n",
    "print(classification_report(y_test,y_predicted_neigh))"
   ]
  },
  {
   "cell_type": "code",
   "execution_count": 13,
   "id": "597c4a18",
   "metadata": {},
   "outputs": [
    {
     "data": {
      "text/plain": [
       "<sklearn.metrics._plot.confusion_matrix.ConfusionMatrixDisplay at 0x1c852d2f190>"
      ]
     },
     "execution_count": 13,
     "metadata": {},
     "output_type": "execute_result"
    },
    {
     "data": {
      "image/png": "[encoded data removed]",
      "text/plain": [
       "<Figure size 432x288 with 2 Axes>"
      ]
     },
     "metadata": {
      "needs_background": "light"
     },
     "output_type": "display_data"
    }
   ],
   "source": [
    "cm = confusion_matrix(y_test, y_predicted_neigh, labels=neigh.classes_)\n",
    "disp = ConfusionMatrixDisplay(confusion_matrix=cm, display_labels=neigh.classes_)\n",
    "disp.plot()"
   ]
  },
  {
   "cell_type": "code",
   "execution_count": null,
   "id": "856721a1",
   "metadata": {},
   "outputs": [],
   "source": []
  }
 ],
 "metadata": {
  "kernelspec": {
   "display_name": "Python 3 (ipykernel)",
   "language": "python",
   "name": "python3"
  },
  "language_info": {
   "codemirror_mode": {
    "name": "ipython",
    "version": 3
   },
   "file_extension": ".py",
   "mimetype": "text/x-python",
   "name": "python",
   "nbconvert_exporter": "python",
   "pygments_lexer": "ipython3",
   "version": "3.9.1"
  }
 },
 "nbformat": 4,
 "nbformat_minor": 5
}
