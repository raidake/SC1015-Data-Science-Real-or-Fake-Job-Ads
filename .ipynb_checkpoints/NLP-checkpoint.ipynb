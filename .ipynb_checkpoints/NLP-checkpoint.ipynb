{
 "cells": [
  {
   "cell_type": "code",
   "execution_count": 1,
   "id": "3df2dca6",
   "metadata": {},
   "outputs": [],
   "source": [
    "import numpy as np\n",
    "import pandas as pd\n",
    "import matplotlib.pyplot as plt\n",
    "import matplotlib.cm as cm\n",
    "\n",
    "from tqdm import tqdm_notebook as tqdm\n",
    "\n",
    "from sklearn.cluster import MiniBatchKMeans\n",
    "from sklearn.decomposition import PCA\n",
    "from sklearn.manifold import TSNE"
   ]
  },
  {
   "cell_type": "code",
   "execution_count": 2,
   "id": "6689bd67",
   "metadata": {},
   "outputs": [],
   "source": [
    "import nltk\n",
    "from sklearn.feature_extraction.text import CountVectorizer\n",
    "from sklearn.feature_extraction.text import TfidfVectorizer\n",
    "from sklearn.preprocessing import LabelBinarizer\n",
    "from nltk.corpus import stopwords\n",
    "from nltk.stem.porter import PorterStemmer\n",
    "from wordcloud import WordCloud,STOPWORDS\n",
    "from nltk.stem import WordNetLemmatizer\n",
    "from nltk.tokenize import word_tokenize,sent_tokenize\n",
    "from bs4 import BeautifulSoup\n",
    "import re,string,unicodedata\n",
    "from nltk.tokenize.toktok import ToktokTokenizer\n",
    "from nltk.stem import LancasterStemmer,WordNetLemmatizer\n",
    "from sklearn.linear_model import LogisticRegression,SGDClassifier\n",
    "from sklearn.naive_bayes import MultinomialNB\n",
    "from sklearn.svm import SVC\n",
    "from sklearn.metrics import classification_report,confusion_matrix,accuracy_score\n",
    "from sklearn.model_selection import train_test_split\n",
    "from string import punctuation\n",
    "from nltk import pos_tag\n",
    "from nltk.corpus import wordnet"
   ]
  },
  {
   "cell_type": "code",
   "execution_count": 3,
   "id": "1e5b1ea2",
   "metadata": {},
   "outputs": [],
   "source": [
    "tD = pd.read_csv(\"reallyCleanData.csv\")"
   ]
  },
  {
   "cell_type": "code",
   "execution_count": 4,
   "id": "ebc2033b",
   "metadata": {},
   "outputs": [],
   "source": [
    "tD['text'] = tD['company_profile'] + ' ' + tD['description'] + ' ' + tD['requirements'] "
   ]
  },
  {
   "cell_type": "code",
   "execution_count": 5,
   "id": "feb04bc6",
   "metadata": {},
   "outputs": [],
   "source": [
    "del tD['telecommuting']\n",
    "del tD['has_company_logo']\n",
    "del tD['has_questions']\n",
    "del tD['minSalary']\n",
    "del tD['maxSalary']\n",
    "del tD['haveSalary']\n",
    "del tD['title']\n",
    "del tD['location']\n",
    "del tD['department']\n",
    "del tD['company_profile']\n",
    "del tD['description']\n",
    "del tD['requirements']\n",
    "del tD['benefits']\n",
    "del tD['employment_type']\n",
    "del tD['required_experience']\n",
    "del tD['required_education']\n",
    "del tD['industry']\n",
    "del tD['function']\n",
    "del tD['job_id']\n",
    "del tD['country']\n",
    "del tD['state']\n",
    "del tD['city']"
   ]
  },
  {
   "cell_type": "code",
   "execution_count": 6,
   "id": "e6b76de8",
   "metadata": {},
   "outputs": [
    {
     "data": {
      "text/html": [
       "<div>\n",
       "<style scoped>\n",
       "    .dataframe tbody tr th:only-of-type {\n",
       "        vertical-align: middle;\n",
       "    }\n",
       "\n",
       "    .dataframe tbody tr th {\n",
       "        vertical-align: top;\n",
       "    }\n",
       "\n",
       "    .dataframe thead th {\n",
       "        text-align: right;\n",
       "    }\n",
       "</style>\n",
       "<table border=\"1\" class=\"dataframe\">\n",
       "  <thead>\n",
       "    <tr style=\"text-align: right;\">\n",
       "      <th></th>\n",
       "      <th>fraudulent</th>\n",
       "      <th>text</th>\n",
       "    </tr>\n",
       "  </thead>\n",
       "  <tbody>\n",
       "    <tr>\n",
       "      <th>0</th>\n",
       "      <td>0</td>\n",
       "      <td>We're Food52, and we've created a groundbreaki...</td>\n",
       "    </tr>\n",
       "    <tr>\n",
       "      <th>1</th>\n",
       "      <td>0</td>\n",
       "      <td>90 Seconds, the worlds Cloud Video Production ...</td>\n",
       "    </tr>\n",
       "    <tr>\n",
       "      <th>2</th>\n",
       "      <td>0</td>\n",
       "      <td>Valor Services provides Workforce Solutions th...</td>\n",
       "    </tr>\n",
       "    <tr>\n",
       "      <th>3</th>\n",
       "      <td>0</td>\n",
       "      <td>Our passion for improving quality of life thro...</td>\n",
       "    </tr>\n",
       "    <tr>\n",
       "      <th>4</th>\n",
       "      <td>0</td>\n",
       "      <td>SpotSource Solutions LLC is a Global Human Cap...</td>\n",
       "    </tr>\n",
       "  </tbody>\n",
       "</table>\n",
       "</div>"
      ],
      "text/plain": [
       "   fraudulent                                               text\n",
       "0           0  We're Food52, and we've created a groundbreaki...\n",
       "1           0  90 Seconds, the worlds Cloud Video Production ...\n",
       "2           0  Valor Services provides Workforce Solutions th...\n",
       "3           0  Our passion for improving quality of life thro...\n",
       "4           0  SpotSource Solutions LLC is a Global Human Cap..."
      ]
     },
     "execution_count": 6,
     "metadata": {},
     "output_type": "execute_result"
    }
   ],
   "source": [
    "tD.head()"
   ]
  },
  {
   "cell_type": "markdown",
   "id": "454c436b",
   "metadata": {},
   "source": [
    "# REMOVE STOP WORDS LIKE 'and' , 'a', etc..."
   ]
  },
  {
   "cell_type": "code",
   "execution_count": 7,
   "id": "52941b7b",
   "metadata": {},
   "outputs": [],
   "source": [
    "stop = set(stopwords.words('english'))\n",
    "punctuation = list(string.punctuation)\n",
    "stop.update(punctuation)"
   ]
  },
  {
   "cell_type": "code",
   "execution_count": 8,
   "id": "49174eca",
   "metadata": {},
   "outputs": [],
   "source": [
    "def get_simple_pos(tag):\n",
    "    if tag.startswith('J'):\n",
    "        return wordnet.ADJ\n",
    "    elif tag.startswith('V'):\n",
    "        return wordnet.VERB\n",
    "    elif tag.startswith('N'):\n",
    "        return wordnet.NOUN\n",
    "    elif tag.startswith('R'):\n",
    "        return wordnet.ADV\n",
    "    else:\n",
    "        return wordnet.NOUN"
   ]
  },
  {
   "cell_type": "markdown",
   "id": "aaa4b5bb",
   "metadata": {},
   "source": [
    "# LEMMATIZE & TOKENIZE"
   ]
  },
  {
   "cell_type": "code",
   "execution_count": 10,
   "id": "2f222ed8",
   "metadata": {},
   "outputs": [],
   "source": [
    "lemmatizer = WordNetLemmatizer()"
   ]
  },
  {
   "cell_type": "code",
   "execution_count": 13,
   "id": "4330ffe3",
   "metadata": {},
   "outputs": [
    {
     "data": {
      "text/plain": [
       "17880"
      ]
     },
     "execution_count": 13,
     "metadata": {},
     "output_type": "execute_result"
    }
   ],
   "source": [
    "from nltk.tokenize import RegexpTokenizer\n",
    "tokenizer = RegexpTokenizer(r'\\w+')\n",
    "tD[\"tokens\"] = tD[\"text\"].apply(tokenizer.tokenize)\n",
    "lemmatizer = WordNetLemmatizer()\n",
    "obj = tD[\"tokens\"]\n",
    "listOfDFRows = obj.to_numpy().tolist()\n",
    "len(listOfDFRows)"
   ]
  },
  {
   "cell_type": "code",
   "execution_count": 14,
   "id": "c47d3c4a",
   "metadata": {},
   "outputs": [
    {
     "name": "stdout",
     "output_type": "stream",
     "text": [
      "Stored 'a' (list)\n"
     ]
    }
   ],
   "source": [
    "from nltk.corpus import stopwords\n",
    "lemm_tokens = []\n",
    "lemms = []\n",
    "for i in range(len(listOfDFRows)):\n",
    "    for words in listOfDFRows[i]:\n",
    "        if words not in stopwords.words('english'):\n",
    "            lemmas = lemmatizer.lemmatize(words.lower(), pos='v')\n",
    "            lemms.append(lemmas)\n",
    "    lemm_tokens.append(lemms)\n",
    "    lemms = []\n",
    "a = lemm_tokens\n",
    "%store a"
   ]
  },
  {
   "cell_type": "code",
   "execution_count": 15,
   "id": "59dba018",
   "metadata": {},
   "outputs": [],
   "source": [
    "tD = tD.assign(lemm_tokens=a)"
   ]
  },
  {
   "cell_type": "code",
   "execution_count": 16,
   "id": "6b58f2ca",
   "metadata": {},
   "outputs": [],
   "source": [
    "tD.to_csv('tokenized.csv')"
   ]
  },
  {
   "cell_type": "markdown",
   "id": "e6d13b6a",
   "metadata": {},
   "source": [
    "# MIGHT BE BETTER TO SPLIT INTO TRAINING / TEST SETS BEFORE VECTORIZATION"
   ]
  },
  {
   "cell_type": "code",
   "execution_count": 18,
   "id": "77e0b139",
   "metadata": {},
   "outputs": [],
   "source": [
    "wordtokens = tD['lemm_tokens']\n",
    "\n",
    "\n",
    "\n",
    "def dummy_fun(doc):\n",
    "    return doc\n",
    "tfidf = TfidfVectorizer(\n",
    "    analyzer='word',\n",
    "    tokenizer=dummy_fun,\n",
    "    preprocessor=dummy_fun,\n",
    "    token_pattern=None)  \n",
    "tfidf.fit(wordtokens)\n",
    "wordtfidf = tfidf.transform(wordtokens)"
   ]
  },
  {
   "cell_type": "code",
   "execution_count": 21,
   "id": "01cf156f",
   "metadata": {},
   "outputs": [
    {
     "name": "stdout",
     "output_type": "stream",
     "text": [
      "(17880, 92150)\n"
     ]
    }
   ],
   "source": [
    "print(wordtfidf.shape)"
   ]
  },
  {
   "cell_type": "code",
   "execution_count": null,
   "id": "b8f8b616",
   "metadata": {},
   "outputs": [],
   "source": []
  }
 ],
 "metadata": {
  "kernelspec": {
   "display_name": "Python 3 (ipykernel)",
   "language": "python",
   "name": "python3"
  },
  "language_info": {
   "codemirror_mode": {
    "name": "ipython",
    "version": 3
   },
   "file_extension": ".py",
   "mimetype": "text/x-python",
   "name": "python",
   "nbconvert_exporter": "python",
   "pygments_lexer": "ipython3",
   "version": "3.9.7"
  }
 },
 "nbformat": 4,
 "nbformat_minor": 5
}
